{
  "nbformat": 4,
  "nbformat_minor": 0,
  "metadata": {
    "colab": {
      "provenance": [],
      "authorship_tag": "ABX9TyPeSO39mra3ZtrdsMrgH2sX",
      "include_colab_link": true
    },
    "kernelspec": {
      "name": "python3",
      "display_name": "Python 3"
    },
    "language_info": {
      "name": "python"
    }
  },
  "cells": [
    {
      "cell_type": "markdown",
      "metadata": {
        "id": "view-in-github",
        "colab_type": "text"
      },
      "source": [
        "<a href=\"https://colab.research.google.com/github/keerthanamg/Plant-species-identification/blob/main/plant_species_identification.ipynb\" target=\"_parent\"><img src=\"https://colab.research.google.com/assets/colab-badge.svg\" alt=\"Open In Colab\"/></a>"
      ]
    },
    {
      "cell_type": "markdown",
      "source": [
        "Single image preprocessing and feature extraction - Testfile\n",
        "This file explores the techniques to be used for preprocessing and feature extraction for the Flavia leaves dataset images.\n",
        "\n",
        "Importing necessary libraries"
      ],
      "metadata": {
        "id": "y-4aLR2TbRDo"
      }
    },
    {
      "cell_type": "code",
      "source": [
        "import os\n",
        "import cv2\n",
        "import numpy as np\n",
        "from matplotlib import pyplot as plt\n",
        "%matplotlib inline"
      ],
      "metadata": {
        "id": "JhhLhaShbUnZ"
      },
      "execution_count": 1,
      "outputs": []
    },
    {
      "cell_type": "markdown",
      "source": [
        "Reading the image\n",
        "Note: 'Flavia leaves dataset' should be in the project root containing Flavia images."
      ],
      "metadata": {
        "id": "ibUBGnS5bhJw"
      }
    },
    {
      "cell_type": "code",
      "source": [
        "ds_path = \"Flavia leaves dataset\""
      ],
      "metadata": {
        "id": "EFtPMNgpbiP0"
      },
      "execution_count": null,
      "outputs": []
    },
    {
      "cell_type": "code",
      "source": [
        "test_img_path = ds_path + \"\\\\2546.jpg\"\n",
        "test_img_path"
      ],
      "metadata": {
        "id": "rz6eyk0AbmTN"
      },
      "execution_count": null,
      "outputs": []
    },
    {
      "cell_type": "markdown",
      "source": [
        "'Flavia leaves dataset\\\\2546.jpg'"
      ],
      "metadata": {
        "id": "z9FVf9_Pbvou"
      }
    },
    {
      "cell_type": "code",
      "source": [
        "main_img = cv2.imread(test_img_path)\n",
        "img = cv2.cvtColor(main_img, cv2.COLOR_BGR2RGB)\n",
        "plt.imshow(img)"
      ],
      "metadata": {
        "id": "85ED3ISobxRd"
      },
      "execution_count": null,
      "outputs": []
    },
    {
      "cell_type": "code",
      "source": [
        "gs = cv2.cvtColor(img,cv2.COLOR_RGB2GRAY)\n",
        "plt.imshow(gs,cmap='Greys_r')\n"
      ],
      "metadata": {
        "id": "je8A2OSTb028"
      },
      "execution_count": null,
      "outputs": []
    },
    {
      "cell_type": "code",
      "source": [
        "gs.shape"
      ],
      "metadata": {
        "id": "rETbfPirb71p"
      },
      "execution_count": null,
      "outputs": []
    },
    {
      "cell_type": "code",
      "source": [
        "blur = cv2.GaussianBlur(gs, (25,25),0)\n",
        "plt.imshow(blur,cmap='Greys_r')"
      ],
      "metadata": {
        "id": "-0ZmnH8ZcLPe"
      },
      "execution_count": null,
      "outputs": []
    },
    {
      "cell_type": "code",
      "source": [
        "ret_otsu,im_bw_otsu = cv2.threshold(blur,0,255,cv2.THRESH_BINARY_INV+cv2.THRESH_OTSU)\n",
        "plt.imshow(im_bw_otsu,cmap='Greys_r')"
      ],
      "metadata": {
        "id": "kUTZxTDQcYH8"
      },
      "execution_count": null,
      "outputs": []
    },
    {
      "cell_type": "code",
      "source": [
        "kernel = np.ones((50,50),np.uint8)\n",
        "closing = cv2.morphologyEx(im_bw_otsu, cv2.MORPH_CLOSE, kernel)"
      ],
      "metadata": {
        "id": "YTlmq_aMcgNw"
      },
      "execution_count": null,
      "outputs": []
    },
    {
      "cell_type": "code",
      "source": [
        "plt.imshow(closing,cmap='Greys_r')"
      ],
      "metadata": {
        "id": "E3AQueGQck28"
      },
      "execution_count": null,
      "outputs": []
    },
    {
      "cell_type": "code",
      "source": [
        "sobelx64f = cv2.Sobel(closing,cv2.CV_64F,1,0,ksize=5)\n",
        "abs_sobel64f = np.absolute(sobelx64f)\n",
        "sobel_8u = np.uint8(abs_sobel64f)\n",
        "plt.imshow(abs_sobel64f,cmap='Greys_r')"
      ],
      "metadata": {
        "id": "q-rnCRu0cnl_"
      },
      "execution_count": null,
      "outputs": []
    },
    {
      "cell_type": "code",
      "source": [
        "ret_sobel,im_bw_sobel = cv2.threshold(sobel_8u,1,255,cv2.THRESH_BINARY)\n",
        "plt.imshow(im_bw_sobel,cmap='Greys_r')"
      ],
      "metadata": {
        "id": "C0wiHpMhcrS9"
      },
      "execution_count": null,
      "outputs": []
    },
    {
      "cell_type": "code",
      "source": [
        "kernel_edge = np.ones((15,15),np.uint8)\n",
        "closing_edge = cv2.morphologyEx(im_bw_sobel, cv2.MORPH_CLOSE, kernel_edge)\n",
        "plt.imshow(closing_edge,cmap='Greys_r')"
      ],
      "metadata": {
        "id": "5B11vSrXcuv4"
      },
      "execution_count": null,
      "outputs": []
    },
    {
      "cell_type": "code",
      "source": [
        "plt.imshow(closing,cmap=\"Greys_r\")"
      ],
      "metadata": {
        "id": "1vhedMQycxR5"
      },
      "execution_count": null,
      "outputs": []
    },
    {
      "cell_type": "code",
      "source": [
        "_, contours, hierarchy = cv2.findContours(closing,cv2.RETR_TREE,cv2.CHAIN_APPROX_SIMPLE)\n",
        "len(contours)"
      ],
      "metadata": {
        "id": "zmXltYi5c2_Y"
      },
      "execution_count": null,
      "outputs": []
    },
    {
      "cell_type": "code",
      "source": [
        "cnt = contours[0]\n",
        "len(cnt)"
      ],
      "metadata": {
        "id": "VcxgaNkQc7Qn"
      },
      "execution_count": null,
      "outputs": []
    },
    {
      "cell_type": "code",
      "source": [
        "plottedContour = cv2.drawContours(gs,contours,-1,(0,255,0),10)\n",
        "plt.imshow(plottedContour,cmap=\"Greys_r\")"
      ],
      "metadata": {
        "id": "I40ysmEVc-nK"
      },
      "execution_count": null,
      "outputs": []
    },
    {
      "cell_type": "code",
      "source": [
        "M = cv2.moments(cnt)\n",
        "M"
      ],
      "metadata": {
        "id": "5cN_OOf_dFNH"
      },
      "execution_count": null,
      "outputs": []
    },
    {
      "cell_type": "code",
      "source": [
        "area = cv2.contourArea(cnt)\n",
        "area"
      ],
      "metadata": {
        "id": "9gjGG-0ldIyH"
      },
      "execution_count": null,
      "outputs": []
    },
    {
      "cell_type": "code",
      "source": [
        "perimeter = cv2.arcLength(cnt,True)\n",
        "perimeter"
      ],
      "metadata": {
        "id": "zXMNGBXrdMPu"
      },
      "execution_count": null,
      "outputs": []
    },
    {
      "cell_type": "code",
      "source": [
        "rect = cv2.minAreaRect(cnt)\n",
        "box = cv2.boxPoints(rect)\n",
        "box = np.int0(box)\n",
        "contours_im = cv2.drawContours(closing,[box],0,(255,255,255),2)\n",
        "plt.imshow(contours_im,cmap=\"Greys_r\")"
      ],
      "metadata": {
        "id": "-UjT6CzudPo8"
      },
      "execution_count": null,
      "outputs": []
    },
    {
      "cell_type": "code",
      "source": [
        "ellipse = cv2.fitEllipse(cnt)\n",
        "im = cv2.ellipse(closing,ellipse,(255,255,255),2)\n",
        "plt.imshow(closing,cmap=\"Greys_r\")"
      ],
      "metadata": {
        "id": "Xo0ztvhtdS5a"
      },
      "execution_count": null,
      "outputs": []
    },
    {
      "cell_type": "code",
      "source": [
        "x,y,w,h = cv2.boundingRect(cnt)\n",
        "aspect_ratio = float(w)/h\n",
        "aspect_ratio"
      ],
      "metadata": {
        "id": "TCj_wobvdWrH"
      },
      "execution_count": null,
      "outputs": []
    },
    {
      "cell_type": "code",
      "source": [
        "rectangularity = w*h/area\n",
        "rectangularity"
      ],
      "metadata": {
        "id": "zeucV2OpdZiJ"
      },
      "execution_count": null,
      "outputs": []
    },
    {
      "cell_type": "code",
      "source": [
        "circularity = ((perimeter)**2)/area\n",
        "circularity"
      ],
      "metadata": {
        "id": "oUXybdBUddO8"
      },
      "execution_count": null,
      "outputs": []
    },
    {
      "cell_type": "code",
      "source": [
        "equi_diameter = np.sqrt(4*area/np.pi)\n",
        "equi_diameter"
      ],
      "metadata": {
        "id": "t4FRtSNAdgPr"
      },
      "execution_count": null,
      "outputs": []
    },
    {
      "cell_type": "code",
      "source": [
        "(x,y),(MA,ma),angle = cv2.fitEllipse(cnt)"
      ],
      "metadata": {
        "id": "c4YVPccbdjSU"
      },
      "execution_count": null,
      "outputs": []
    },
    {
      "cell_type": "code",
      "source": [
        "plt.imshow(img,cmap=\"Greys_r\")"
      ],
      "metadata": {
        "id": "tiB2N64Edlyt"
      },
      "execution_count": null,
      "outputs": []
    },
    {
      "cell_type": "code",
      "source": [
        "red_channel = img[:,:,0]\n",
        "plt.imshow(red_channel,cmap=\"Greys_r\")"
      ],
      "metadata": {
        "id": "_5HMHwYDdpGA"
      },
      "execution_count": null,
      "outputs": []
    },
    {
      "cell_type": "code",
      "source": [
        "green_channel = img[:,:,1]\n",
        "plt.imshow(green_channel,cmap=\"Greys_r\")"
      ],
      "metadata": {
        "id": "6v4T6NcFdtHR"
      },
      "execution_count": null,
      "outputs": []
    },
    {
      "cell_type": "code",
      "source": [
        "blue_channel = img[:,:,2]\n",
        "plt.imshow(blue_channel,cmap=\"Greys_r\")"
      ],
      "metadata": {
        "id": "kV5IGHn6dv80"
      },
      "execution_count": null,
      "outputs": []
    },
    {
      "cell_type": "code",
      "source": [
        "np.mean(blue_channel)"
      ],
      "metadata": {
        "id": "TW-3oPesd-M2"
      },
      "execution_count": null,
      "outputs": []
    },
    {
      "cell_type": "code",
      "source": [
        "blue_channel[blue_channel == 255] = 0\n",
        "green_channel[green_channel == 255] = 0\n",
        "red_channel[red_channel == 255] = 0"
      ],
      "metadata": {
        "id": "H2utpthSeTJI"
      },
      "execution_count": null,
      "outputs": []
    },
    {
      "cell_type": "code",
      "source": [
        "red_mean = np.mean(red_channel)\n",
        "red_mean"
      ],
      "metadata": {
        "id": "e0CXYW0QeWTh"
      },
      "execution_count": null,
      "outputs": []
    },
    {
      "cell_type": "code",
      "source": [
        "green_mean = np.mean(green_channel)\n",
        "green_mean"
      ],
      "metadata": {
        "id": "AYE0gkTSeYyu"
      },
      "execution_count": null,
      "outputs": []
    },
    {
      "cell_type": "code",
      "source": [
        "blue_mean = np.mean(blue_channel)\n",
        "blue_mean"
      ],
      "metadata": {
        "id": "DlWp4mXrebSb"
      },
      "execution_count": null,
      "outputs": []
    },
    {
      "cell_type": "code",
      "source": [
        "red_var = np.std(red_channel)\n",
        "red_var"
      ],
      "metadata": {
        "id": "rvTX5zsEedwA"
      },
      "execution_count": null,
      "outputs": []
    },
    {
      "cell_type": "code",
      "source": [
        "import mahotas as mt\n",
        "textures = mt.features.haralick(gs)\n",
        "ht_mean = textures.mean(axis=0)\n",
        "ht_mean"
      ],
      "metadata": {
        "id": "jPs1VS6eegIj"
      },
      "execution_count": null,
      "outputs": []
    },
    {
      "cell_type": "code",
      "source": [
        "print(ht_mean[1]) #contrast\n",
        "print(ht_mean[2]) #correlation\n",
        "print(ht_mean[4]) #inverse difference moments\n",
        "print(ht_mean[8]) #entropy"
      ],
      "metadata": {
        "id": "BYAd0AlHewEI"
      },
      "execution_count": null,
      "outputs": []
    }
  ]
}